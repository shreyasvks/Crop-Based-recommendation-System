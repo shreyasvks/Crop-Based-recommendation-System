{
 "cells": [
  {
   "cell_type": "code",
   "execution_count": 59,
   "id": "51a6bb5d",
   "metadata": {},
   "outputs": [],
   "source": [
    "import matplotlib.pyplot as plt\n",
    "import pandas as pd\n",
    "import numpy as np\n",
    "files=['North','South','Coastal']"
   ]
  },
  {
   "cell_type": "code",
   "execution_count": 60,
   "id": "bcca0dfe",
   "metadata": {},
   "outputs": [],
   "source": [
    "def learn(x,y,m,c,epoch):\n",
    "    for i in range(epoch):\n",
    "        error=y-(m*x+c)\n",
    "        x_error=(y-(m*x+c))*x\n",
    "        error=np.sum(error)/len(x)\n",
    "        x_error=np.sum(x_error)/len(x_error)\n",
    "        learning_rate=0.01\n",
    "        delta_m=learning_rate*x_error\n",
    "        delta_c=learning_rate*error\n",
    "        m+=delta_m\n",
    "        c+=delta_c\n",
    "    return(m,c)"
   ]
  },
  {
   "cell_type": "code",
   "execution_count": 61,
   "id": "f22506de",
   "metadata": {
    "scrolled": false
   },
   "outputs": [],
   "source": [
    "data1=pd.read_csv(\"data sets/District wise karnataka.csv\")\n",
    "x = [list(row) for row in data1.values]"
   ]
  },
  {
   "cell_type": "code",
   "execution_count": 62,
   "id": "c8923e9f",
   "metadata": {},
   "outputs": [],
   "source": [
    "data = pd.read_csv('data sets/'+files[1]+'.csv')"
   ]
  },
  {
   "cell_type": "code",
   "execution_count": 63,
   "id": "78cb30e3",
   "metadata": {},
   "outputs": [
    {
     "data": {
      "text/html": [
       "<div>\n",
       "<style scoped>\n",
       "    .dataframe tbody tr th:only-of-type {\n",
       "        vertical-align: middle;\n",
       "    }\n",
       "\n",
       "    .dataframe tbody tr th {\n",
       "        vertical-align: top;\n",
       "    }\n",
       "\n",
       "    .dataframe thead th {\n",
       "        text-align: right;\n",
       "    }\n",
       "</style>\n",
       "<table border=\"1\" class=\"dataframe\">\n",
       "  <thead>\n",
       "    <tr style=\"text-align: right;\">\n",
       "      <th></th>\n",
       "      <th>Region</th>\n",
       "      <th>Year</th>\n",
       "      <th>Annual</th>\n",
       "      <th>Rabi</th>\n",
       "      <th>Kharif</th>\n",
       "    </tr>\n",
       "  </thead>\n",
       "  <tbody>\n",
       "    <tr>\n",
       "      <th>0</th>\n",
       "      <td>SOUTH INTERIOR KARNATAKA</td>\n",
       "      <td>1901</td>\n",
       "      <td>83.583333</td>\n",
       "      <td>24.000000</td>\n",
       "      <td>59.575000</td>\n",
       "    </tr>\n",
       "    <tr>\n",
       "      <th>1</th>\n",
       "      <td>SOUTH INTERIOR KARNATAKA</td>\n",
       "      <td>1902</td>\n",
       "      <td>85.008333</td>\n",
       "      <td>20.091667</td>\n",
       "      <td>64.925000</td>\n",
       "    </tr>\n",
       "    <tr>\n",
       "      <th>2</th>\n",
       "      <td>SOUTH INTERIOR KARNATAKA</td>\n",
       "      <td>1903</td>\n",
       "      <td>105.825000</td>\n",
       "      <td>22.316667</td>\n",
       "      <td>83.508333</td>\n",
       "    </tr>\n",
       "    <tr>\n",
       "      <th>3</th>\n",
       "      <td>SOUTH INTERIOR KARNATAKA</td>\n",
       "      <td>1904</td>\n",
       "      <td>70.483333</td>\n",
       "      <td>30.233333</td>\n",
       "      <td>40.258333</td>\n",
       "    </tr>\n",
       "    <tr>\n",
       "      <th>4</th>\n",
       "      <td>SOUTH INTERIOR KARNATAKA</td>\n",
       "      <td>1905</td>\n",
       "      <td>63.283333</td>\n",
       "      <td>21.825000</td>\n",
       "      <td>41.466667</td>\n",
       "    </tr>\n",
       "    <tr>\n",
       "      <th>...</th>\n",
       "      <td>...</td>\n",
       "      <td>...</td>\n",
       "      <td>...</td>\n",
       "      <td>...</td>\n",
       "      <td>...</td>\n",
       "    </tr>\n",
       "    <tr>\n",
       "      <th>110</th>\n",
       "      <td>SOUTH INTERIOR KARNATAKA</td>\n",
       "      <td>2011</td>\n",
       "      <td>90.616667</td>\n",
       "      <td>30.641667</td>\n",
       "      <td>59.966667</td>\n",
       "    </tr>\n",
       "    <tr>\n",
       "      <th>111</th>\n",
       "      <td>SOUTH INTERIOR KARNATAKA</td>\n",
       "      <td>2012</td>\n",
       "      <td>73.150000</td>\n",
       "      <td>20.383333</td>\n",
       "      <td>52.783333</td>\n",
       "    </tr>\n",
       "    <tr>\n",
       "      <th>112</th>\n",
       "      <td>SOUTH INTERIOR KARNATAKA</td>\n",
       "      <td>2013</td>\n",
       "      <td>92.558333</td>\n",
       "      <td>27.391667</td>\n",
       "      <td>65.158333</td>\n",
       "    </tr>\n",
       "    <tr>\n",
       "      <th>113</th>\n",
       "      <td>SOUTH INTERIOR KARNATAKA</td>\n",
       "      <td>2014</td>\n",
       "      <td>98.683333</td>\n",
       "      <td>25.375000</td>\n",
       "      <td>73.300000</td>\n",
       "    </tr>\n",
       "    <tr>\n",
       "      <th>114</th>\n",
       "      <td>SOUTH INTERIOR KARNATAKA</td>\n",
       "      <td>2015</td>\n",
       "      <td>92.708333</td>\n",
       "      <td>37.566667</td>\n",
       "      <td>55.141667</td>\n",
       "    </tr>\n",
       "  </tbody>\n",
       "</table>\n",
       "<p>115 rows × 5 columns</p>\n",
       "</div>"
      ],
      "text/plain": [
       "                       Region  Year      Annual       Rabi     Kharif\n",
       "0    SOUTH INTERIOR KARNATAKA  1901   83.583333  24.000000  59.575000\n",
       "1    SOUTH INTERIOR KARNATAKA  1902   85.008333  20.091667  64.925000\n",
       "2    SOUTH INTERIOR KARNATAKA  1903  105.825000  22.316667  83.508333\n",
       "3    SOUTH INTERIOR KARNATAKA  1904   70.483333  30.233333  40.258333\n",
       "4    SOUTH INTERIOR KARNATAKA  1905   63.283333  21.825000  41.466667\n",
       "..                        ...   ...         ...        ...        ...\n",
       "110  SOUTH INTERIOR KARNATAKA  2011   90.616667  30.641667  59.966667\n",
       "111  SOUTH INTERIOR KARNATAKA  2012   73.150000  20.383333  52.783333\n",
       "112  SOUTH INTERIOR KARNATAKA  2013   92.558333  27.391667  65.158333\n",
       "113  SOUTH INTERIOR KARNATAKA  2014   98.683333  25.375000  73.300000\n",
       "114  SOUTH INTERIOR KARNATAKA  2015   92.708333  37.566667  55.141667\n",
       "\n",
       "[115 rows x 5 columns]"
      ]
     },
     "execution_count": 63,
     "metadata": {},
     "output_type": "execute_result"
    }
   ],
   "source": [
    "data"
   ]
  },
  {
   "cell_type": "code",
   "execution_count": 64,
   "id": "92ab023e",
   "metadata": {},
   "outputs": [],
   "source": [
    "x=data.Year.to_numpy()\n",
    "ya=data.Annual.to_numpy()\n",
    "yr=data.Rabi.to_numpy()\n",
    "yk=data.Kharif.to_numpy()\n",
    "x=x/2025\n",
    "yk=yk/2025\n",
    "yr=yr/2025\n",
    "ya=ya/2025"
   ]
  },
  {
   "cell_type": "code",
   "execution_count": 65,
   "id": "b43bf210",
   "metadata": {},
   "outputs": [],
   "source": [
    "m,c = np.random.random(),np.random.random()"
   ]
  },
  {
   "cell_type": "code",
   "execution_count": 66,
   "id": "cc0ed3b9",
   "metadata": {},
   "outputs": [],
   "source": [
    "ma,ca = learn(x,ya,m,c,200000)"
   ]
  },
  {
   "cell_type": "code",
   "execution_count": 67,
   "id": "1d931afa",
   "metadata": {},
   "outputs": [
    {
     "data": {
      "text/plain": [
       "[<matplotlib.lines.Line2D at 0x1e7c304cdf0>]"
      ]
     },
     "execution_count": 67,
     "metadata": {},
     "output_type": "execute_result"
    },
    {
     "data": {
      "image/png": "[encoded data removed]",
      "text/plain": [
       "<Figure size 432x288 with 1 Axes>"
      ]
     },
     "metadata": {
      "needs_background": "light"
     },
     "output_type": "display_data"
    }
   ],
   "source": [
    "x1a=[0.94,1]\n",
    "y1a=[0.94*ma+ca,1*ma+ca]\n",
    "plt.scatter(x,ya)\n",
    "plt.plot(x1a,y1a)"
   ]
  },
  {
   "cell_type": "code",
   "execution_count": 68,
   "id": "37e8331c",
   "metadata": {},
   "outputs": [
    {
     "data": {
      "text/plain": [
       "[<matplotlib.lines.Line2D at 0x1e7c30b9dc0>]"
      ]
     },
     "execution_count": 68,
     "metadata": {},
     "output_type": "execute_result"
    },
    {
     "data": {
      "image/png": "[encoded data removed]",
      "text/plain": [
       "<Figure size 432x288 with 1 Axes>"
      ]
     },
     "metadata": {
      "needs_background": "light"
     },
     "output_type": "display_data"
    }
   ],
   "source": [
    "mr,cr=learn(x,yr,m,c,200000)\n",
    "x1r=[0.94,1]\n",
    "y1r=[0.94*mr+cr,1*mr+cr]\n",
    "plt.scatter(x,yr)\n",
    "plt.plot(x1r,y1r)"
   ]
  },
  {
   "cell_type": "code",
   "execution_count": 69,
   "id": "6618e38a",
   "metadata": {},
   "outputs": [
    {
     "data": {
      "text/plain": [
       "[<matplotlib.lines.Line2D at 0x1e7c313a940>]"
      ]
     },
     "execution_count": 69,
     "metadata": {},
     "output_type": "execute_result"
    },
    {
     "data": {
      "image/png": "[encoded data removed]",
      "text/plain": [
       "<Figure size 432x288 with 1 Axes>"
      ]
     },
     "metadata": {
      "needs_background": "light"
     },
     "output_type": "display_data"
    }
   ],
   "source": [
    "mk,ck=learn(x,yk,m,c,200000)\n",
    "x1k=[0.94,1]\n",
    "y1k=[0.94*mk+ck,1*mk+ck]\n",
    "plt.scatter(x,yk,marker=\"^\")\n",
    "plt.scatter(x,ya,marker=\"o\")\n",
    "plt.scatter(x,yr,marker=\"s\")\n",
    "plt.plot(x1k,y1k)\n",
    "plt.plot(x1a,y1a)\n",
    "plt.plot(x1r,y1r)"
   ]
  },
  {
   "cell_type": "code",
   "execution_count": 70,
   "id": "feeba713",
   "metadata": {},
   "outputs": [
    {
     "name": "stdout",
     "output_type": "stream",
     "text": [
      "Annual rainfall for 2021 = 86.07509232860892\n",
      "Kharif rainfall for 2021 = 60.96510518248536\n",
      "Rabi rainfall for 2021   = 22.076983162932496\n"
     ]
    }
   ],
   "source": [
    "print(\"Annual rainfall for 2021 =\",(2021/2025*ma+ca)*2025)\n",
    "print(\"Kharif rainfall for 2021 =\",(2021/2025*mk+ck)*2025)\n",
    "print(\"Rabi rainfall for 2021   =\",(2021/2025*mr+cr)*2025)"
   ]
  },
  {
   "cell_type": "code",
   "execution_count": 71,
   "id": "d0329f3e",
   "metadata": {},
   "outputs": [
    {
     "name": "stdout",
     "output_type": "stream",
     "text": [
      "95.90678918164443\n"
     ]
    }
   ],
   "source": [
    "correction=list()\n",
    "for i in range(1):\n",
    "    ma,ca = learn(x,ya,m,c,100000)\n",
    "    mr,cr=learn(x,yr,m,c,100000)\n",
    "    mk,ck=learn(x,yk,m,c,100000)\n",
    "    ann=(2021/2025*ma+ca)*2025\n",
    "    rab=(2021/2025*mr+cr)*2025\n",
    "    kha=(2021/2025*mk+ck)*2025\n",
    "    correction.append(abs(ann-rab-kha)*100/ann)\n",
    "print(100-(sum(correction)/len(correction)))"
   ]
  },
  {
   "cell_type": "code",
   "execution_count": 72,
   "id": "56a14eb9",
   "metadata": {},
   "outputs": [
    {
     "data": {
      "image/png": "[encoded data removed]",
      "text/plain": [
       "<Figure size 720x360 with 1 Axes>"
      ]
     },
     "metadata": {
      "needs_background": "light"
     },
     "output_type": "display_data"
    }
   ],
   "source": [
    "data = {'1000':84.47890644531627, '10000':84.64995005055832, '100000':86.27148357417093,\n",
    "        '1000000':95.76103949272935,'5000000':99.98285986013197}\n",
    "courses = list(data.keys())\n",
    "values = list(data.values())\n",
    "  \n",
    "fig = plt.figure(figsize = (10, 5))\n",
    " \n",
    "# creating the bar plot\n",
    "plt.bar(courses, values, color ='maroon',\n",
    "        width = 0.4)\n",
    " \n",
    "plt.xlabel(\"Epochs\")\n",
    "plt.ylabel(\"Accuracy\")\n",
    "plt.title(\"Epochs vs Accuracy for linear regression\")\n",
    "plt.show()"
   ]
  },
  {
   "cell_type": "code",
   "execution_count": null,
   "id": "f123066d",
   "metadata": {},
   "outputs": [],
   "source": []
  }
 ],
 "metadata": {
  "kernelspec": {
   "display_name": "Python 3 (ipykernel)",
   "language": "python",
   "name": "python3"
  },
  "language_info": {
   "codemirror_mode": {
    "name": "ipython",
    "version": 3
   },
   "file_extension": ".py",
   "mimetype": "text/x-python",
   "name": "python",
   "nbconvert_exporter": "python",
   "pygments_lexer": "ipython3",
   "version": "3.9.12"
  }
 },
 "nbformat": 4,
 "nbformat_minor": 5
}
